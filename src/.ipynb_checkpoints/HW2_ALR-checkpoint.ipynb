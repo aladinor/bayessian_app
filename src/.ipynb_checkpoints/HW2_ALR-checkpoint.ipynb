{
 "cells": [
  {
   "cell_type": "code",
   "execution_count": 1,
   "id": "097ce1f6",
   "metadata": {},
   "outputs": [],
   "source": [
    "import matplotlib.pyplot as plt\n",
    "import numpy as np\n",
    "from scipy import stats\n",
    "from scipy.special import gamma, comb, factorial"
   ]
  },
  {
   "cell_type": "markdown",
   "id": "a403fa2f",
   "metadata": {},
   "source": [
    "### 2c. 95% equal-tailed (Bayesian posterior) credible interval for θ\n"
   ]
  },
  {
   "cell_type": "code",
   "execution_count": 2,
   "id": "a61209cb",
   "metadata": {},
   "outputs": [
    {
     "name": "stdout",
     "output_type": "stream",
     "text": [
      "equaly tiled values are : 0.0771 and 0.3472\n"
     ]
    }
   ],
   "source": [
    "alpha = 6 # alpha parametrer of Beta distribution\n",
    "beta = 25 # alpha parametrer of Beta distribution\n",
    "\n",
    "# Computing the  95% equal-tailed credible interval for θ\n",
    "equ_tled = stats.beta(alpha, beta).ppf([0.025, 0.975])\n",
    "print(f\"equaly tiled values are : {equ_tled[0]:.4f} and {equ_tled[1]:.4f}\")\n",
    "\n"
   ]
  },
  {
   "cell_type": "markdown",
   "id": "91dcf18b",
   "metadata": {},
   "source": [
    "### 2d.Posterior prob. that theta < 20%   (at least 20% own pets)\n"
   ]
  },
  {
   "cell_type": "code",
   "execution_count": 3,
   "id": "c1c01898",
   "metadata": {},
   "outputs": [
    {
     "name": "stdout",
     "output_type": "stream",
     "text": [
      "posterior probalibilty less or equal to  20%  is 0.5725\n"
     ]
    }
   ],
   "source": [
    "#  Posterior prob. that theta < 20%   (at least 20% own pets)\n",
    "\n",
    "post_prob = stats.beta(alpha, beta).cdf(0.2)\n",
    "print(f\"posterior probalibilty less or equal to  20%  is {post_prob:.4f}\")"
   ]
  },
  {
   "cell_type": "markdown",
   "id": "32d9704b",
   "metadata": {},
   "source": [
    "### 2e. Posterior predictive probability\n",
    "$$f(y^* | y < 20) = \\begin{pmatrix}y^{*} + 4 \\\\ y^{*}\\end{pmatrix} \\frac{\\Gamma(31)}{\\Gamma(6)\\Gamma(25)} \n",
    "\\frac{\\Gamma(11)\\Gamma(y^* + 25)}{\\Gamma(36 + y^*)}$$\n",
    "$$$$\n",
    "$$y^* = \\{0,1,2...,19\\}$$"
   ]
  },
  {
   "cell_type": "code",
   "execution_count": 18,
   "id": "d624495b",
   "metadata": {},
   "outputs": [],
   "source": [
    "y_star = np.arange(0,20)\n",
    "ppd = np.zeros_like(y_star, dtype='float64')\n",
    "for i in range(len(y_star)):\n",
    "    ppd[i] = comb(y_star[i] + 4, y_star[i]) * ((gamma(31) / (gamma(6) * gamma(25))) * (gamma(11) * gamma(y_star[i] + 25) \\\n",
    "                                                                                         / gamma(36 + y_star[i])))"
   ]
  },
  {
   "cell_type": "code",
   "execution_count": 27,
   "id": "dd3a958f",
   "metadata": {},
   "outputs": [
    {
     "name": "stdout",
     "output_type": "stream",
     "text": [
      "posterior predictive probability that the salesperson will need to make strictly fewer calls today is 0.4811\n"
     ]
    }
   ],
   "source": [
    "print(f'posterior predictive probability that the salesperson will need to make strictly fewer calls today is {np.sum(np.array(ppd)):.4f}')"
   ]
  },
  {
   "cell_type": "code",
   "execution_count": null,
   "id": "20a8ae4d",
   "metadata": {},
   "outputs": [],
   "source": []
  }
 ],
 "metadata": {
  "kernelspec": {
   "display_name": "Python 3 (ipykernel)",
   "language": "python",
   "name": "python3"
  },
  "language_info": {
   "codemirror_mode": {
    "name": "ipython",
    "version": 3
   },
   "file_extension": ".py",
   "mimetype": "text/x-python",
   "name": "python",
   "nbconvert_exporter": "python",
   "pygments_lexer": "ipython3",
   "version": "3.9.7"
  }
 },
 "nbformat": 4,
 "nbformat_minor": 5
}
