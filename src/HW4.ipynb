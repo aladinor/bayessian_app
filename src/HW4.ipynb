{
 "cells": [
  {
   "cell_type": "code",
   "execution_count": 1,
   "id": "3c616656-ba1e-41c4-a613-2b396c0b6582",
   "metadata": {},
   "outputs": [],
   "source": [
    "import scipy.stats as ss\n",
    "import numpy as np\n",
    "import matplotlib.pyplot as plt"
   ]
  },
  {
   "cell_type": "code",
   "execution_count": 2,
   "id": "63b16615-0f7e-4e68-9426-47e459ccafb5",
   "metadata": {},
   "outputs": [
    {
     "data": {
      "image/png": "[encoded data removed]",
      "text/plain": [
       "<Figure size 432x288 with 1 Axes>"
      ]
     },
     "metadata": {
      "needs_background": "light"
     },
     "output_type": "display_data"
    }
   ],
   "source": [
    "# Example 3.3:  Comparing Normal Means: Independent Sampling ###\n",
    "n1 = 24\n",
    "ybar1 = 7.8730\n",
    "s1 = 0.05353\n",
    "n2 = 123\n",
    "ybar2 = 7.9725\n",
    "s2 = 0.01409\n",
    "# Independent draws from posterior ...\n",
    "Nsim = 100000\n",
    "\n",
    "sigma1_2s = 1 / ss.gamma.rvs(a=(n1 - 1) / 2, scale=1 / (((n1 - 1) * s1 ** 2) / 2), size=Nsim)\n",
    "sigma2_2s = 1 / ss.gamma.rvs((n2 - 1) / 2, scale=1 / (((n2 - 1) * s2 ** 2) / 2), size=Nsim)\n",
    "\n",
    "mu1s = ss.norm.rvs(ybar1, np.sqrt(sigma1_2s / n1), size=Nsim)\n",
    "mu2s = ss.norm.rvs(ybar2, np.sqrt(sigma2_2s / n2), size=Nsim)\n",
    "# Posterior inference based on empirical distribution of draws ...\n",
    "# approx. posterior density curve for mu1 - mu2 (histogram and smooth)\n",
    "x_train = mu1s - mu2s\n",
    "x_test = np.linspace(-0.15, -0.05, 1000)\n",
    "density = ss.gaussian_kde(x_train)\n",
    "y = density(x_test)\n",
    "\n",
    "fig, ax1 = plt.subplots()\n",
    "ax1.hist(x_train, bins=16, color=\"grey\", ec=\"k\", density=True)\n",
    "ax1.plot(x_test, y, c='b')\n",
    "plt.show()"
   ]
  },
  {
   "cell_type": "markdown",
   "id": "a6cc053f-7be2-4c1c-9b17-a665dc5643fa",
   "metadata": {},
   "source": [
    "### **1. Variance ratio $\\sigma^2_1 / \\sigma^2_2$**"
   ]
  },
  {
   "cell_type": "code",
   "execution_count": 3,
   "id": "4ede1791-1805-4e97-9b83-87a461a9e348",
   "metadata": {},
   "outputs": [
    {
     "data": {
      "image/png": "[encoded data removed]",
      "text/plain": [
       "<Figure size 432x288 with 1 Axes>"
      ]
     },
     "metadata": {
      "needs_background": "light"
     },
     "output_type": "display_data"
    }
   ],
   "source": [
    "# Posterior inference based on empirical distribution of draws ...\n",
    "# approx. posterior density curve for  sigma1_2s/sigma2_2s (histogram and smooth)\n",
    "x_train = sigma1_2s/sigma2_2s\n",
    "\n",
    "x_test = np.linspace(0, 70, 1000)\n",
    "density = ss.gaussian_kde(x_train)\n",
    "y = density(x_test)\n",
    "\n",
    "fig, ax1 = plt.subplots()\n",
    "ax1.hist(x_train, bins=16, color=\"grey\", ec=\"k\", density=True)\n",
    "ax1.plot(x_test, y, c='b')\n",
    "plt.show()"
   ]
  },
  {
   "cell_type": "markdown",
   "id": "528fada2-ab9b-4c9d-ae05-a28b7b32e03a",
   "metadata": {},
   "source": [
    "##### **a)**. Posterior mean\n",
    "\n",
    "$$E(g(\\theta) | y) = \\frac{1}{S} \\sum^{S}_{s=1} g\\left(\\theta^{(S)}\\right)$$"
   ]
  },
  {
   "cell_type": "code",
   "execution_count": 4,
   "id": "c7711da9-4f3a-44ee-b8a2-81be02a247f5",
   "metadata": {},
   "outputs": [
    {
     "name": "stdout",
     "output_type": "stream",
     "text": [
      "variance ratio posterior mean is: 15.7908\n"
     ]
    }
   ],
   "source": [
    "print(f'variance ratio posterior mean is: {np.mean(x_train):.4f}')"
   ]
  },
  {
   "cell_type": "markdown",
   "id": "da7d6c8d-5bcb-49d6-ba10-26f40f7881dd",
   "metadata": {
    "tags": []
   },
   "source": [
    "##### **b)**. Montecarlo Error (MCE) of the stimated posterior mean\n",
    "\n",
    "$$MCE = \\frac{sd_g}{\\sqrt{S}} \\ \\ \\ ; where \\ \\  sd_g = \\sqrt{sample \\ var. \\ of \\ g\\left(\\theta^{(S)}\\right))}$$"
   ]
  },
  {
   "cell_type": "code",
   "execution_count": 5,
   "id": "a04d3cc5-fff4-4b31-8675-4a56a58e2735",
   "metadata": {},
   "outputs": [],
   "source": [
    "sdg = np.sqrt(np.var(x_train))\n",
    "mce = sdg / np.sqrt(len(x_train))"
   ]
  },
  {
   "cell_type": "code",
   "execution_count": 6,
   "id": "9979d7ed-e37a-4b0c-a347-c63e4449918c",
   "metadata": {},
   "outputs": [
    {
     "name": "stdout",
     "output_type": "stream",
     "text": [
      "the Monte Carlo error is:  0.0174\n"
     ]
    }
   ],
   "source": [
    "print(f'the Monte Carlo error is: {mce: .4f}')"
   ]
  },
  {
   "cell_type": "markdown",
   "id": "6eef98c7-ef76-4ac7-8bf1-e754d492c0e0",
   "metadata": {},
   "source": [
    "##### **c)**. Posterior standard deviation of $\\sigma^2_1 / \\sigma^2_2$"
   ]
  },
  {
   "cell_type": "code",
   "execution_count": 7,
   "id": "9c0465f9-6f9f-4043-a948-38a711ebca32",
   "metadata": {},
   "outputs": [
    {
     "name": "stdout",
     "output_type": "stream",
     "text": [
      "Posterior standard deviation is: 5.5126\n"
     ]
    }
   ],
   "source": [
    "print(f'Posterior standard deviation is: {np.std(x_train):.4f}')"
   ]
  },
  {
   "cell_type": "markdown",
   "id": "2a75be70-08e2-4a2c-8a6b-b1265064a478",
   "metadata": {},
   "source": [
    "##### **c)**. Approximate 95% equal-tailed credible interval for $\\sigma^2_1 / \\sigma^2_2$"
   ]
  },
  {
   "cell_type": "code",
   "execution_count": 8,
   "id": "ea2f87d2-2f6c-428f-b683-388cbc063e0b",
   "metadata": {},
   "outputs": [
    {
     "name": "stdout",
     "output_type": "stream",
     "text": [
      "the 95% equal-tailed credival interval is: [ 8.14338568 29.38051974]\n"
     ]
    }
   ],
   "source": [
    "print(f'the 95% equal-tailed credival interval is: {np.quantile(x_train, [0.025, 0.975])}')"
   ]
  },
  {
   "cell_type": "markdown",
   "id": "7facd5cb-3e87-4542-9216-fff84a38aa98",
   "metadata": {},
   "source": [
    "##### **d)**. Frequentist (1 − α)100% confidence interval for $\\sigma^2_1 / \\sigma^2_2$\n",
    "\n",
    "$$\\left[ \\frac{1}{F_{\\alpha/2 , n_1-1, n_2-1}} \\frac{s_1^2}{s_2^2}, \\ \\ \\ F_{\\alpha/2 , n_2-1, n_1-1} \\frac{s_1^2}{s_2^2} \\right]$$\n",
    "\n",
    "With:\n",
    "* $\\alpha = 5\\%$;  $\\alpha/2 = 2.5\\%$\n",
    "* $n_1 = 24$;  $n_1-1= 23$\n",
    "* $n_2 = 123$;  $n_2 - 1 = 122$\n",
    "\n",
    "$$\\left[ \\frac{1}{F_{0.025 , 23, 122}} \\frac{0.05353^2}{0.01409^2}, \\ \\ \\ F_{0.025 , 122, 23} \\frac{0.05353^2}{0.01409^2} \\right]$$\n",
    "\n",
    "\n",
    "From Table VII from Hogg & Tanis (2010)\n",
    "\n",
    "* $F_{0.025 , 23, 122} \\approx 1.64$\n",
    "* $F_{0.025 , 122, 23} \\approx 1.94$\n",
    "\n",
    "$$\\left[ \\frac{1}{1.64} \\frac{0.05353^2}{0.01409^2}, \\ \\ \\ 1.94 \\frac{0.05353^2}{0.01409^2} \\right]$$"
   ]
  },
  {
   "cell_type": "code",
   "execution_count": 9,
   "id": "7deb232a-4288-496b-ad2d-16bdba286588",
   "metadata": {},
   "outputs": [],
   "source": [
    "s1 = 0.05353\n",
    "s2 = 0.01409\n",
    "_left = (1 / 1.64) * (s1**2)/(s2**2)\n",
    "_right = 1.94 * (s1**2)/(s2**2)"
   ]
  },
  {
   "cell_type": "code",
   "execution_count": 10,
   "id": "6b54aea2-4ad5-4916-bd9e-e200832cc2a0",
   "metadata": {},
   "outputs": [
    {
     "name": "stdout",
     "output_type": "stream",
     "text": [
      "Frequentist (1 − α)100% confidence interval is: [8.80093173761075, 28.001044416382364]\n"
     ]
    }
   ],
   "source": [
    "print(f'Frequentist (1 − α)100% confidence interval is: [{_left}, {_right}]')"
   ]
  },
  {
   "cell_type": "markdown",
   "id": "3e8d6c14-ecf1-4c8d-be77-7c7123029817",
   "metadata": {},
   "source": [
    "The frequentist (1 − α)100% confidence interval is similar to the 95% equal-tailed credival interval. However, the frequentis approach has a narrower (1 − α)100% confidence interval than the 95% equal-tailed credival interval"
   ]
  },
  {
   "cell_type": "markdown",
   "id": "51be0d6e-8bc6-4366-9315-b6aa128f897b",
   "metadata": {},
   "source": [
    "### **2. Deviance function**\n",
    "\n",
    "$$D(y|\\theta) = -2ln\\left( f(y|\\theta) \\right)$$\n",
    "\n",
    "$y = 12$ out of $n = 70$ sampled students had pets\n",
    "\n",
    "$$\n",
    "y|\\theta \\sim Bin(n, \\theta) \\\\ \\\\ \n",
    "f(y|\\theta) = \\binom{n}{y} \\theta^y(1-\\theta)^{n -y}\n",
    "$$\n",
    "\n",
    "\n",
    "Thus,\n",
    "\n",
    "$$\n",
    "\\begin{align*} \n",
    "D(y|\\theta) &= -2ln\\left[ \\binom{n}{y} \\theta^y(1-\\theta)^{n -y} \\right] \\\\ \\\\\n",
    "&= -2 \\left[ln\\binom{n}{y} + y ln(\\theta) + (n-y)ln(1-\\theta) \\right] \\\\ \\\\\n",
    "&= -2 \\left[ln\\binom{70}{12} + 12 ln(\\theta) + 58ln(1-\\theta) \\right] \\\\ \\\\\n",
    "\\end{align*}\n",
    "$$"
   ]
  },
  {
   "cell_type": "code",
   "execution_count": null,
   "id": "bb900da6-508c-4942-a1a1-cc17ba4d78d2",
   "metadata": {},
   "outputs": [],
   "source": []
  },
  {
   "cell_type": "code",
   "execution_count": null,
   "id": "781637b8-8b87-4fa1-a200-87f1ec62924d",
   "metadata": {},
   "outputs": [],
   "source": []
  },
  {
   "cell_type": "code",
   "execution_count": null,
   "id": "cd2f7e15-8083-4d92-aeeb-40981b8d37a5",
   "metadata": {},
   "outputs": [],
   "source": []
  }
 ],
 "metadata": {
  "kernelspec": {
   "display_name": "Python 3 (ipykernel)",
   "language": "python",
   "name": "python3"
  },
  "language_info": {
   "codemirror_mode": {
    "name": "ipython",
    "version": 3
   },
   "file_extension": ".py",
   "mimetype": "text/x-python",
   "name": "python",
   "nbconvert_exporter": "python",
   "pygments_lexer": "ipython3",
   "version": "3.9.7"
  }
 },
 "nbformat": 4,
 "nbformat_minor": 5
}
