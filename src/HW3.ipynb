{
 "cells": [
  {
   "cell_type": "code",
   "execution_count": 3,
   "id": "2cec0237",
   "metadata": {},
   "outputs": [
    {
     "name": "stdout",
     "output_type": "stream",
     "text": [
      "equaly tiled values are : 0.101256 and 0.276626\n",
      "posterior probalibilty at least 30% own pets is 0.008745\n"
     ]
    }
   ],
   "source": [
    "#!/usr/bin/env python3\n",
    "# -*- coding: utf-8 -*-\n",
    "import numpy as np\n",
    "from scipy import stats\n",
    "from scipy.optimize import minimize_scalar\n",
    "\n",
    "\n",
    "def interval_width(x, n, y):\n",
    "    _res = stats.beta(y+1, n-y+1).ppf(0.95) - stats.beta(y+1, n-y+1).ppf(x)\n",
    "    return _res.min()\n",
    "\n",
    "\n",
    "def main():\n",
    "    #  Example 1.3:  Population Proportion --- Bayesian Methods ###\n",
    "\n",
    "    y = 12\n",
    "    n = 70\n",
    "    equ_tled = stats.beta(y+1, n-y+1).ppf([0.025, 0.975])\n",
    "    print(f\"equaly tiled values are : {equ_tled[0]:2f} and {equ_tled[1]:2f}\")\n",
    "\n",
    "    # Approximate 95% HPD credible interval under Uniform(0,1) prior\n",
    "    x0 = np.array([0, 0.05])\n",
    "    lower_area = minimize_scalar(interval_width, bounds=(0, 0.05), args=(n, y))\n",
    "\n",
    "    # (b) Posterior Probabilities (of hypotheses)\n",
    "\n",
    "    # Posterior prob. that theta >= 0.3   (at least 30% own pets)\n",
    "    # under Uniform(0,1) prior:\n",
    "\n",
    "    post_prob = 1 - stats.beta(y + 1, n - y + 1).cdf(0.3)\n",
    "    print(f\"posterior probalibilty at least 30% own pets is {post_prob:2f}\")\n",
    "\n",
    "\n",
    "if __name__ == \"__main__\":\n",
    "    main()\n"
   ]
  },
  {
   "cell_type": "code",
   "execution_count": null,
   "id": "7ca85891",
   "metadata": {},
   "outputs": [],
   "source": []
  }
 ],
 "metadata": {
  "kernelspec": {
   "display_name": "Python 3 (ipykernel)",
   "language": "python",
   "name": "python3"
  },
  "language_info": {
   "codemirror_mode": {
    "name": "ipython",
    "version": 3
   },
   "file_extension": ".py",
   "mimetype": "text/x-python",
   "name": "python",
   "nbconvert_exporter": "python",
   "pygments_lexer": "ipython3",
   "version": "3.9.13"
  }
 },
 "nbformat": 4,
 "nbformat_minor": 5
}
