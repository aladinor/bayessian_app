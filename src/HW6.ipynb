{
 "cells": [
  {
   "cell_type": "code",
   "execution_count": 1,
   "id": "6ec5ea5e-36f5-4f17-8703-17472ebba3d7",
   "metadata": {},
   "outputs": [],
   "source": [
    "import arviz as az\n",
    "import matplotlib.pyplot as plt\n",
    "import pyjags as pj\n",
    "import pandas as pd\n",
    "import scipy.stats as ss\n",
    "import numpy as np\n",
    "from IPython.display import Image"
   ]
  },
  {
   "cell_type": "markdown",
   "id": "2ed8e238-d888-495a-938f-96fcc06c12c6",
   "metadata": {},
   "source": [
    "### **1. Bayesian hierarchical normal linear regression - Univariate**"
   ]
  },
  {
   "cell_type": "markdown",
   "id": "8852439c-a4e4-4f1e-b507-d8824adeabae",
   "metadata": {},
   "source": [
    "#### 1a. Univariate prior formulation"
   ]
  },
  {
   "cell_type": "code",
   "execution_count": 2,
   "id": "5c3bf3df-025d-4ac1-aa44-6b3569067f1b",
   "metadata": {},
   "outputs": [],
   "source": [
    "df = pd.read_csv('../data/lifeexpdiff.csv', sep=',', header=0, index_col=[0])\n",
    "years = np.array([1960, 1970, 1980, 1990, 2000, 2010])\n",
    "data = {'Y': np.ma.masked_invalid(df.values),\n",
    "        'X': np.ma.masked_invalid(years),\n",
    "        'Xbar': np.ma.masked_invalid(np.mean(years))}\n",
    "\n",
    "inits = [{'tausq.y': 1, 'beta1': 0, 'beta2': 0, 'sigma.alpha1': 1, 'sigma.alpha2': 1},\n",
    "             {'tausq.y': 100, 'beta1': 100, 'beta2': 100, 'sigma.alpha1': 0.1, 'sigma.alpha2': 0.1},\n",
    "             {'tausq.y': 0.01, 'beta1': -100, 'beta2': -100, 'sigma.alpha1': 10, 'sigma.alpha2': 10}]\n"
   ]
  },
  {
   "cell_type": "code",
   "execution_count": 3,
   "id": "3e1830c9-1c68-455e-b47a-36f5c5fd6a49",
   "metadata": {},
   "outputs": [],
   "source": [
    "jags_model_string = '''\n",
    "  data {\n",
    "      dim.Y <- dim(Y)\n",
    "    }\n",
    "\n",
    "    model {\n",
    "      for(i in 1:dim.Y[1]) {\n",
    "\n",
    "        for(j in 1:dim.Y[2]) {\n",
    "          Y[i,j] ~ dnorm(mu[i,j], tausq.y)\n",
    "          mu[i,j] <- alpha[i,1] + alpha[i,2] * (X[j] - Xbar)\n",
    "        }\n",
    "\n",
    "        alpha[i,1] ~ dnorm(beta1, 1 / sigma.alpha1^2)\n",
    "        alpha[i,2] ~ dnorm(beta2, 1 / sigma.alpha2^2)\n",
    "      }\n",
    "\n",
    "      tausq.y ~ dgamma(0.001, 0.001)\n",
    "      sigma.y <- 1 / sqrt(tausq.y)\n",
    "\n",
    "      beta1 ~ dnorm(0.0, 1.0E-6)\n",
    "      beta2 ~ dnorm(0.0, 1.0E-6)\n",
    "      sigma.alpha1 ~ dexp(0.001)\n",
    "      sigma.alpha2 ~ dexp(0.001)\n",
    "    }\n",
    "    '''"
   ]
  },
  {
   "cell_type": "code",
   "execution_count": 4,
   "id": "37a00f81-2e34-43bf-9bc5-c478426defc0",
   "metadata": {},
   "outputs": [
    {
     "name": "stdout",
     "output_type": "stream",
     "text": [
      "adapting: iterations 3000 of 3000, elapsed 0:00:00, remaining 0:00:00\n"
     ]
    }
   ],
   "source": [
    "jags_model \\\n",
    "    = pj.Model(code=jags_model_string,\n",
    "               init=inits,\n",
    "               data=data,\n",
    "               chains=3,\n",
    "               )"
   ]
  },
  {
   "cell_type": "markdown",
   "id": "4dcf2561-2cd3-4d54-a487-ff13eb61308f",
   "metadata": {
    "tags": []
   },
   "source": [
    "#### 1b. Univariate model summary"
   ]
  },
  {
   "cell_type": "code",
   "execution_count": 5,
   "id": "347f3fd6-1c34-4051-a09e-52a5b3810d00",
   "metadata": {},
   "outputs": [
    {
     "name": "stdout",
     "output_type": "stream",
     "text": [
      "sampling: iterations 126726 of 420000, elapsed 0:00:06, remaining 0:00:14\n",
      "sampling: iterations 336576 of 420000, elapsed 0:00:16, remaining 0:00:04\n",
      "sampling: iterations 420000 of 420000, elapsed 0:00:20, remaining 0:00:00\n"
     ]
    }
   ],
   "source": [
    "# Usin 100000 iterations\n",
    "samples_1 = jags_model.sample(iterations=140000, vars=[\"beta1\", \"beta2\", \"sigma.y\", \"sigma.alpha1\", \"sigma.alpha2\"])\n",
    "idata = az.from_pyjags(samples_1)"
   ]
  },
  {
   "cell_type": "code",
   "execution_count": 6,
   "id": "65b1adb9-ebb0-439b-a684-6f3cb18a21f7",
   "metadata": {},
   "outputs": [],
   "source": [
    "func_dict = {\n",
    "    \"Mean\":np.mean,\n",
    "    \"SD\": np.std,\n",
    "    \"SE\": lambda x: np.std(x) / np.sqrt(np.size(x)),\n",
    "    \"2.5%\": lambda x: np.percentile(x, 2.5),\n",
    "    \"25%\": lambda x: np.percentile(x, 25),\n",
    "    \"50%\": lambda x: np.percentile(x, 50),\n",
    "    \"75%\": lambda x: np.percentile(x, 75),\n",
    "    \"97.5%\": lambda x: np.percentile(x, 97.5),\n",
    "}"
   ]
  },
  {
   "cell_type": "code",
   "execution_count": 7,
   "id": "b24ce5fc-07fa-41de-b61f-b083053e9f85",
   "metadata": {},
   "outputs": [
    {
     "data": {
      "text/html": [
       "<div>\n",
       "<style scoped>\n",
       "    .dataframe tbody tr th:only-of-type {\n",
       "        vertical-align: middle;\n",
       "    }\n",
       "\n",
       "    .dataframe tbody tr th {\n",
       "        vertical-align: top;\n",
       "    }\n",
       "\n",
       "    .dataframe thead th {\n",
       "        text-align: right;\n",
       "    }\n",
       "</style>\n",
       "<table border=\"1\" class=\"dataframe\">\n",
       "  <thead>\n",
       "    <tr style=\"text-align: right;\">\n",
       "      <th></th>\n",
       "      <th>Mean</th>\n",
       "      <th>SD</th>\n",
       "      <th>SE</th>\n",
       "      <th>2.5%</th>\n",
       "      <th>25%</th>\n",
       "      <th>50%</th>\n",
       "      <th>75%</th>\n",
       "      <th>97.5%</th>\n",
       "    </tr>\n",
       "  </thead>\n",
       "  <tbody>\n",
       "    <tr>\n",
       "      <th>beta1</th>\n",
       "      <td>0.116</td>\n",
       "      <td>0.191</td>\n",
       "      <td>0.0</td>\n",
       "      <td>-0.259</td>\n",
       "      <td>-0.011</td>\n",
       "      <td>0.117</td>\n",
       "      <td>0.243</td>\n",
       "      <td>0.492</td>\n",
       "    </tr>\n",
       "    <tr>\n",
       "      <th>beta2</th>\n",
       "      <td>-0.005</td>\n",
       "      <td>0.004</td>\n",
       "      <td>0.0</td>\n",
       "      <td>-0.013</td>\n",
       "      <td>-0.008</td>\n",
       "      <td>-0.005</td>\n",
       "      <td>-0.003</td>\n",
       "      <td>0.002</td>\n",
       "    </tr>\n",
       "    <tr>\n",
       "      <th>sigma.y</th>\n",
       "      <td>0.382</td>\n",
       "      <td>0.019</td>\n",
       "      <td>0.0</td>\n",
       "      <td>0.347</td>\n",
       "      <td>0.369</td>\n",
       "      <td>0.382</td>\n",
       "      <td>0.395</td>\n",
       "      <td>0.423</td>\n",
       "    </tr>\n",
       "    <tr>\n",
       "      <th>sigma.alpha1</th>\n",
       "      <td>1.329</td>\n",
       "      <td>0.141</td>\n",
       "      <td>0.0</td>\n",
       "      <td>1.088</td>\n",
       "      <td>1.230</td>\n",
       "      <td>1.317</td>\n",
       "      <td>1.416</td>\n",
       "      <td>1.638</td>\n",
       "    </tr>\n",
       "    <tr>\n",
       "      <th>sigma.alpha2</th>\n",
       "      <td>0.024</td>\n",
       "      <td>0.003</td>\n",
       "      <td>0.0</td>\n",
       "      <td>0.019</td>\n",
       "      <td>0.022</td>\n",
       "      <td>0.024</td>\n",
       "      <td>0.026</td>\n",
       "      <td>0.031</td>\n",
       "    </tr>\n",
       "  </tbody>\n",
       "</table>\n",
       "</div>"
      ],
      "text/plain": [
       "               Mean     SD   SE   2.5%    25%    50%    75%  97.5%\n",
       "beta1         0.116  0.191  0.0 -0.259 -0.011  0.117  0.243  0.492\n",
       "beta2        -0.005  0.004  0.0 -0.013 -0.008 -0.005 -0.003  0.002\n",
       "sigma.y       0.382  0.019  0.0  0.347  0.369  0.382  0.395  0.423\n",
       "sigma.alpha1  1.329  0.141  0.0  1.088  1.230  1.317  1.416  1.638\n",
       "sigma.alpha2  0.024  0.003  0.0  0.019  0.022  0.024  0.026  0.031"
      ]
     },
     "execution_count": 7,
     "metadata": {},
     "output_type": "execute_result"
    }
   ],
   "source": [
    "# burning the first 40000 iterations\n",
    "az.summary(idata.posterior.sel(draw=slice(40000, 140000))[[\"beta1\", \"beta2\", \"sigma.y\", \"sigma.alpha1\", \"sigma.alpha2\"]], stat_funcs=func_dict, extend=False)"
   ]
  },
  {
   "cell_type": "markdown",
   "id": "fdce26c7-9055-4298-82eb-fbf852ece1ca",
   "metadata": {},
   "source": [
    "#### 1c.The 95% equal-tailed posterior credible intervals for $\\beta_1$ and $\\beta_2$"
   ]
  },
  {
   "cell_type": "markdown",
   "id": "38d01121-eb17-44bb-b500-e38b4b0fd165",
   "metadata": {},
   "source": [
    "* 95% posterior predictive interval for $\\beta_1$: [-0.258, 0.491]\n",
    "* 95% posterior predictive interval for $\\beta_2$: [-0.013, 0.002]\n",
    "\n",
    "The 95% equal-tailed posterior credible intervals for $\\beta_1$ and $\\beta_2$ contains 0 because they change with respect of the national life expectancy is close to zero. "
   ]
  },
  {
   "cell_type": "markdown",
   "id": "0d99e731-285d-410b-a873-be013b14b1cf",
   "metadata": {
    "tags": []
   },
   "source": [
    "### **2. Bayesian hierarchical normal linear regression - Bivariate**"
   ]
  },
  {
   "cell_type": "markdown",
   "id": "466f445d-1a26-4fab-99f1-50a175270578",
   "metadata": {},
   "source": [
    "#### 2a. Bivariate prior formulation"
   ]
  },
  {
   "cell_type": "code",
   "execution_count": 8,
   "id": "66a28885-c741-41b7-acea-267f46ca3a80",
   "metadata": {},
   "outputs": [],
   "source": [
    "data = {'Y': np.ma.masked_invalid(df.values),\n",
    "        'X': np.ma.masked_invalid(years),\n",
    "        'Xbar': np.ma.masked_invalid(np.mean(years)),\n",
    "        'Omega0': np.ma.masked_invalid(np.array([[1, 0], [0, 0.0005]])),\n",
    "        'mu0': np.ma.masked_invalid(np.array([0, 0])),\n",
    "        'Sigma0.inv': np.ma.masked_invalid(np.array([[1e-6, 0], [0, 1e-6]]))}\n",
    "\n",
    "inits = [{'tausq.y': 1, 'beta': np.array([0, 0]), 'Omega.inv': np.identity(2)},\n",
    "         {'tausq.y': 100, 'beta': np.array([100, 100]), 'Omega.inv': 100 * np.identity(2)},\n",
    "         {'tausq.y': 0.1, 'beta': np.array([-100, -100]), 'Omega.inv': 0.01 * np.identity(2)}]"
   ]
  },
  {
   "cell_type": "code",
   "execution_count": 9,
   "id": "cd8a260a-61f8-4319-a402-20a8d270f799",
   "metadata": {},
   "outputs": [],
   "source": [
    "jags_model_string = '''\n",
    "  data {\n",
    "      dim.Y <- dim(Y)\n",
    "    }\n",
    "    model {\n",
    "      for(i in 1:dim.Y[1]) {\n",
    "\n",
    "        for(j in 1:dim.Y[2]) {\n",
    "          Y[i,j] ~ dnorm(mu[i,j], tausq.y)\n",
    "          mu[i,j] <- alpha[i,1] + alpha[i,2] * (X[j] - Xbar)\n",
    "        }\n",
    "\n",
    "        alpha[i,1:2] ~ dmnorm(beta, Omega.inv)\n",
    "      }\n",
    "\n",
    "      tausq.y ~ dgamma(0.001, 0.001)\n",
    "      sigma.y <- 1 / sqrt(tausq.y)\n",
    "\n",
    "      beta ~ dmnorm(mu0, Sigma0.inv)\n",
    "      Omega.inv ~ dwish(2*Omega0, 2)\n",
    "      Omega <- inverse(Omega.inv)\n",
    "\n",
    "      rho <- Omega[1,2] / sqrt(Omega[1,1] * Omega[2,2])\n",
    "      rho.ind <- rho >= 0\n",
    "    }\n",
    "    '''\n"
   ]
  },
  {
   "cell_type": "code",
   "execution_count": 10,
   "id": "340c53c8-027b-43c6-ad42-e25878e7aa83",
   "metadata": {},
   "outputs": [],
   "source": [
    "jags_model \\\n",
    "    = pj.Model(code=jags_model_string,\n",
    "               init=inits,\n",
    "               data=data,\n",
    "               chains=3,\n",
    "               )"
   ]
  },
  {
   "cell_type": "code",
   "execution_count": 11,
   "id": "939159d2-eaca-409b-9d99-a8cb0767b6f3",
   "metadata": {
    "tags": []
   },
   "outputs": [
    {
     "name": "stdout",
     "output_type": "stream",
     "text": [
      "sampling: iterations 42000 of 42000, elapsed 0:00:03, remaining 0:00:00\n"
     ]
    }
   ],
   "source": [
    "samples_1 = jags_model.sample(iterations=14000, vars=[\"beta\", \"sigma.y\", \"rho\", 'Omega', 'rho.ind'])\n",
    "samples_1['Omega'] = np.reshape(samples_1['Omega'], [4, 14000, 3])"
   ]
  },
  {
   "cell_type": "code",
   "execution_count": 12,
   "id": "6a358b5e-cd5e-449e-ae47-600478a167f2",
   "metadata": {},
   "outputs": [],
   "source": [
    "idata = az.from_pyjags(samples_1)"
   ]
  },
  {
   "cell_type": "markdown",
   "id": "3ca212c0-f743-4ab2-9027-6dee2005098e",
   "metadata": {},
   "source": [
    "#### 2b. Bivariate model summary"
   ]
  },
  {
   "cell_type": "code",
   "execution_count": 13,
   "id": "b50ed76f-2c09-49f1-8980-84d05df84d52",
   "metadata": {},
   "outputs": [
    {
     "data": {
      "text/html": [
       "<div>\n",
       "<style scoped>\n",
       "    .dataframe tbody tr th:only-of-type {\n",
       "        vertical-align: middle;\n",
       "    }\n",
       "\n",
       "    .dataframe tbody tr th {\n",
       "        vertical-align: top;\n",
       "    }\n",
       "\n",
       "    .dataframe thead th {\n",
       "        text-align: right;\n",
       "    }\n",
       "</style>\n",
       "<table border=\"1\" class=\"dataframe\">\n",
       "  <thead>\n",
       "    <tr style=\"text-align: right;\">\n",
       "      <th></th>\n",
       "      <th>Mean</th>\n",
       "      <th>SD</th>\n",
       "      <th>SE</th>\n",
       "      <th>2.5%</th>\n",
       "      <th>25%</th>\n",
       "      <th>50%</th>\n",
       "      <th>75%</th>\n",
       "      <th>97.5%</th>\n",
       "    </tr>\n",
       "  </thead>\n",
       "  <tbody>\n",
       "    <tr>\n",
       "      <th>beta[0]</th>\n",
       "      <td>0.116</td>\n",
       "      <td>0.189</td>\n",
       "      <td>0.001</td>\n",
       "      <td>-0.260</td>\n",
       "      <td>-0.008</td>\n",
       "      <td>0.118</td>\n",
       "      <td>0.243</td>\n",
       "      <td>0.486</td>\n",
       "    </tr>\n",
       "    <tr>\n",
       "      <th>beta[1]</th>\n",
       "      <td>-0.006</td>\n",
       "      <td>0.004</td>\n",
       "      <td>0.000</td>\n",
       "      <td>-0.013</td>\n",
       "      <td>-0.008</td>\n",
       "      <td>-0.006</td>\n",
       "      <td>-0.003</td>\n",
       "      <td>0.002</td>\n",
       "    </tr>\n",
       "    <tr>\n",
       "      <th>sigma.y</th>\n",
       "      <td>0.383</td>\n",
       "      <td>0.019</td>\n",
       "      <td>0.000</td>\n",
       "      <td>0.347</td>\n",
       "      <td>0.370</td>\n",
       "      <td>0.382</td>\n",
       "      <td>0.396</td>\n",
       "      <td>0.423</td>\n",
       "    </tr>\n",
       "    <tr>\n",
       "      <th>rho</th>\n",
       "      <td>0.173</td>\n",
       "      <td>0.146</td>\n",
       "      <td>0.001</td>\n",
       "      <td>-0.124</td>\n",
       "      <td>0.076</td>\n",
       "      <td>0.179</td>\n",
       "      <td>0.274</td>\n",
       "      <td>0.446</td>\n",
       "    </tr>\n",
       "    <tr>\n",
       "      <th>Omega[0]</th>\n",
       "      <td>1.750</td>\n",
       "      <td>0.369</td>\n",
       "      <td>0.002</td>\n",
       "      <td>1.167</td>\n",
       "      <td>1.488</td>\n",
       "      <td>1.707</td>\n",
       "      <td>1.960</td>\n",
       "      <td>2.602</td>\n",
       "    </tr>\n",
       "    <tr>\n",
       "      <th>Omega[1]</th>\n",
       "      <td>0.006</td>\n",
       "      <td>0.005</td>\n",
       "      <td>0.000</td>\n",
       "      <td>-0.004</td>\n",
       "      <td>0.002</td>\n",
       "      <td>0.005</td>\n",
       "      <td>0.009</td>\n",
       "      <td>0.016</td>\n",
       "    </tr>\n",
       "    <tr>\n",
       "      <th>Omega[2]</th>\n",
       "      <td>0.006</td>\n",
       "      <td>0.005</td>\n",
       "      <td>0.000</td>\n",
       "      <td>-0.004</td>\n",
       "      <td>0.002</td>\n",
       "      <td>0.005</td>\n",
       "      <td>0.009</td>\n",
       "      <td>0.016</td>\n",
       "    </tr>\n",
       "    <tr>\n",
       "      <th>Omega[3]</th>\n",
       "      <td>0.001</td>\n",
       "      <td>0.000</td>\n",
       "      <td>0.000</td>\n",
       "      <td>0.000</td>\n",
       "      <td>0.000</td>\n",
       "      <td>0.001</td>\n",
       "      <td>0.001</td>\n",
       "      <td>0.001</td>\n",
       "    </tr>\n",
       "    <tr>\n",
       "      <th>rho.ind</th>\n",
       "      <td>0.878</td>\n",
       "      <td>0.327</td>\n",
       "      <td>0.002</td>\n",
       "      <td>0.000</td>\n",
       "      <td>1.000</td>\n",
       "      <td>1.000</td>\n",
       "      <td>1.000</td>\n",
       "      <td>1.000</td>\n",
       "    </tr>\n",
       "  </tbody>\n",
       "</table>\n",
       "</div>"
      ],
      "text/plain": [
       "           Mean     SD     SE   2.5%    25%    50%    75%  97.5%\n",
       "beta[0]   0.116  0.189  0.001 -0.260 -0.008  0.118  0.243  0.486\n",
       "beta[1]  -0.006  0.004  0.000 -0.013 -0.008 -0.006 -0.003  0.002\n",
       "sigma.y   0.383  0.019  0.000  0.347  0.370  0.382  0.396  0.423\n",
       "rho       0.173  0.146  0.001 -0.124  0.076  0.179  0.274  0.446\n",
       "Omega[0]  1.750  0.369  0.002  1.167  1.488  1.707  1.960  2.602\n",
       "Omega[1]  0.006  0.005  0.000 -0.004  0.002  0.005  0.009  0.016\n",
       "Omega[2]  0.006  0.005  0.000 -0.004  0.002  0.005  0.009  0.016\n",
       "Omega[3]  0.001  0.000  0.000  0.000  0.000  0.001  0.001  0.001\n",
       "rho.ind   0.878  0.327  0.002  0.000  1.000  1.000  1.000  1.000"
      ]
     },
     "execution_count": 13,
     "metadata": {},
     "output_type": "execute_result"
    }
   ],
   "source": [
    "# burning the first 4000 iterations\n",
    "az.summary(idata.posterior.sel(draw=slice(4000, 14000))[[\"beta\", \"sigma.y\", \"rho\", 'Omega', 'rho.ind']], stat_funcs=func_dict, extend=False)"
   ]
  },
  {
   "cell_type": "markdown",
   "id": "04c5bde0-4733-47db-aa20-923bda037ea1",
   "metadata": {},
   "source": [
    "#### 2c. The posterior probability for $\\rho >= 0$"
   ]
  },
  {
   "cell_type": "code",
   "execution_count": 14,
   "id": "3048e836-5505-4af6-81c2-499e703f43bf",
   "metadata": {},
   "outputs": [
    {
     "data": {
      "text/plain": [
       "87.72"
      ]
     },
     "execution_count": 14,
     "metadata": {},
     "output_type": "execute_result"
    }
   ],
   "source": [
    "rho_ge_0 = round(idata.posterior['rho.ind'].mean().values * 100, 2)\n",
    "rho_ge_0"
   ]
  },
  {
   "cell_type": "markdown",
   "id": "aa0d1354-5d48-4939-8cf3-c244a26e650c",
   "metadata": {},
   "source": [
    "The posterior probability for $\\rho >= 0$ is  87.72%. Which means that slope and intercept parameter are correlated"
   ]
  },
  {
   "cell_type": "markdown",
   "id": "1f16b8c3-c441-4709-a1ad-1fe3293a35cc",
   "metadata": {
    "tags": []
   },
   "source": [
    "### **3. GRADUATE SECTION**"
   ]
  },
  {
   "cell_type": "markdown",
   "id": "e5481699-eb38-4f05-970d-82e021fde8d3",
   "metadata": {},
   "source": [
    "#### 3a. Conditionally iid"
   ]
  },
  {
   "cell_type": "markdown",
   "id": "ba0b3038-03f1-4a4d-9408-b375469c3c99",
   "metadata": {},
   "source": [
    "Consider Bernoulli (0 or 1) random variables $Y_1$ and $Y_2$. $Y_1$ and $Y_2$ are $conditionally \\  iid$ given $X$.\n",
    "\n",
    "**i.** The joint probability for $Y_1$ anda $Y_2$ is given by\n",
    "\n",
    "\\begin{equation} \\label{eq:1}\n",
    "Prob(Y1 = 1, Y2 = 1) = 0\n",
    "\\end{equation}\n"
   ]
  },
  {
   "cell_type": "markdown",
   "id": "75b7e280-d1e3-49d8-96f6-a08f54e23ad9",
   "metadata": {},
   "source": [
    "By the law of total probability we know that,\n",
    "\n",
    "\\begin{equation} \\label{eq:2}\n",
    "Prob(Y_1 = 1, Y_2= 1) \\ \\ =  \\ \\sum_x Prob(Y_1 = 1, Y_2 = 1 | X = x) Prob(X=x)\n",
    "\\end{equation}\n",
    "\n",
    "As $Y_1$ and $Y_2$ are conditionally independent. Thus,\n",
    "\n",
    "\\begin{equation} \\label{eq:3}\n",
    "Prob(Y_1 = 1, Y_2= 1) \\ \\ =  \\ \\sum_x Prob(Y_1 = 1| x) Prob(Y_2 = 1 | X = x) Prob(X=x)\n",
    "\\end{equation}\n",
    "\n",
    "We know that $Prob(Y_1 = 1, Y_2= 1) \\ \\ = 0$ \n",
    "\n",
    "\\begin{equation} \\label{eq:4}\n",
    "0 =  \\ \\sum_x Prob(Y_1 = 1| x) Prob(Y_2 = 1 | X = x) Prob(X=x)\n",
    "\\end{equation}\n",
    "\n",
    "Also that $Prob(Y_1 = 1 | X=x) \\  =  \\ Prob(Y_2= 1 | X=x) \\ \\ =  g(x)$ then,\n",
    "\n",
    "\n",
    "\\begin{equation} \\label{eq:5}\n",
    "0 =  \\ \\sum_x g(x)^{2} Prob(X=x)\n",
    "\\end{equation}\n",
    "\n",
    "From \\ref{eq:5} we have that for $Prob(X=x) > 0$, the $g(x)^2$ term needs to be $0$ to fullfil the equality. Therefore, this implies that $Prob(Y_1 = 1 | X = x) \\ \\ =  \\ Prob(Y_2 = 1 | X = x)$ are also $0$\n",
    "$\\\\ \\\\\n",
    "$\n",
    "\n"
   ]
  },
  {
   "cell_type": "markdown",
   "id": "62f5cbdd-b506-4528-b5f7-2758736b858f",
   "metadata": {},
   "source": [
    "**ii.** Show that $g(x) = 0$ such that $Prob(X=x)>0$ implies that $Prob(Y_1=1) = Prob(Y_2=1) = 0$\n",
    "\n",
    "\\begin{align*} \\label{eq:1}\n",
    "Prob(Y_1 = 1) \\ \\ &=  \\ \\sum_x Prob(Y_1 = 1| x) Prob(X=x) \\\\ \\\\\n",
    "0 \\ \\ &=  \\ \\sum_x g(x) Prob(X=x)\n",
    "\\end{align*}\n",
    "\n",
    "Since the we need to fullfill the equality, $g(x)$ needs to be 0 since  $Prob(X=x) > 0 $. Similarly for $Y_2$. Therefore $Prob(Y_1=1) = Prob(Y_2=1) = 0$"
   ]
  },
  {
   "cell_type": "markdown",
   "id": "3c6d23e4-262d-43d5-b5c3-1b10e46f9927",
   "metadata": {
    "tags": []
   },
   "source": [
    "#### 3b. $Y_1$ and $Y_2$ are exchangeable"
   ]
  },
  {
   "cell_type": "markdown",
   "id": "fa57d08d-9114-469e-84ea-de0e2ede5655",
   "metadata": {},
   "source": [
    "**i)**\n",
    "\n",
    "\\begin{equation}\n",
    "Prob(Y_1 = 1; Y_2 = 0)  \\ \\ =  \\ \\ Prob(Y_1 = 0; Y_2 = 1) = 1/2\n",
    "\\end{equation}\n",
    "\n",
    "The joint distribution of $Y_1$ and $Y_2$ are exhangeable because they have a symetric probability matrix as follows:\n",
    "\n",
    "$$\n",
    "\\begin{array}{ccc}\n",
    "& & Y_1 \\\\\n",
    "& Y_2 & \\begin{bmatrix} 0  & 1/2 \\\\ 1/2 & 0 \\end{bmatrix}\n",
    "\\end{array}\n",
    "$$\n",
    "\n",
    "\n",
    "We can exhange them $Y_1$ and $Y_2$ and the joint probability matrix will still be the same\n",
    "\n",
    "$$\n",
    "\\begin{array}{ccc}\n",
    "& & Y_2 \\\\\n",
    "& Y_1 & \\begin{bmatrix} 0  & 1/2 \\\\ 1/2 & 0 \\end{bmatrix}\n",
    "\\end{array}\n",
    "$$\n",
    "\n"
   ]
  },
  {
   "cell_type": "markdown",
   "id": "18d5b752-74d6-4f13-a4d2-19c8bafa66fe",
   "metadata": {},
   "source": [
    "**ii)**  Suppose for contradiction that there exists a discrete random variables $X$ such that $Y_1$ and $Y_2$. $Y_1$ and $Y_2$ are $conditionally \\  iid$ given $X$."
   ]
  },
  {
   "cell_type": "markdown",
   "id": "05534c73-afbe-4ab7-8d27-d5aa29a75577",
   "metadata": {},
   "source": [
    "\n",
    "\\begin{equation} \n",
    "Prob(Y_1 = 1; Y_2 = 0)  \\ \\ =  \\ \\ Prob(Y_1 = 0; Y_2 = 1) = 1/2\n",
    "\\end{equation}\n",
    "\n",
    "Also we know from **3a** that $g(x) = 0$ for all $X$ such that $Prob(X = x) > 0$. Thus, \n",
    "\n",
    "\\begin{align} \\label{eq:67}\n",
    "Prob(Y_1 = 1; Y_2 = 0) &=  \\ \\sum_x g(x)^{2} Prob(X=x) \\\\ \\\\\n",
    "1/2 &=  \\ \\sum_x g(x)^{2} Prob(X=x)\n",
    "\\end{align}\n",
    "\n",
    "$g(x)$ and $Prob(X=x)$ must be greater than zero to fullfill the equality in eq\\ref{eq:67}. Therefore, there are not such X. "
   ]
  },
  {
   "cell_type": "code",
   "execution_count": null,
   "id": "96c45905-795d-4af6-b195-0d04868090a4",
   "metadata": {},
   "outputs": [],
   "source": []
  }
 ],
 "metadata": {
  "kernelspec": {
   "display_name": "Python 3 (ipykernel)",
   "language": "python",
   "name": "python3"
  },
  "language_info": {
   "codemirror_mode": {
    "name": "ipython",
    "version": 3
   },
   "file_extension": ".py",
   "mimetype": "text/x-python",
   "name": "python",
   "nbconvert_exporter": "python",
   "pygments_lexer": "ipython3",
   "version": "3.9.13"
  }
 },
 "nbformat": 4,
 "nbformat_minor": 5
}
